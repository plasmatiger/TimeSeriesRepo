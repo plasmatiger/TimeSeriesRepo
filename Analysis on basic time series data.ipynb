{
 "cells": [
  {
   "cell_type": "code",
   "execution_count": 1,
   "metadata": {
    "collapsed": true
   },
   "outputs": [],
   "source": [
    "import pandas as pd\n",
    "import numpy as np\n",
    "from pandas import Series, DataFrame, Panel\n",
    "pd.set_option('display.max_rows',15) # this limit maximum numbers of rows"
   ]
  },
  {
   "cell_type": "code",
   "execution_count": 22,
   "metadata": {},
   "outputs": [
    {
     "name": "stdout",
     "output_type": "stream",
     "text": [
      "Populating the interactive namespace from numpy and matplotlib\n"
     ]
    },
    {
     "data": {
      "text/plain": [
       "'0.20.3'"
      ]
     },
     "execution_count": 22,
     "metadata": {},
     "output_type": "execute_result"
    }
   ],
   "source": [
    "%pylab inline\n",
    "%matplotlib inline\n",
    "pd.__version__"
   ]
  },
  {
   "cell_type": "code",
   "execution_count": 7,
   "metadata": {},
   "outputs": [
    {
     "name": "stdout",
     "output_type": "stream",
     "text": [
      "--2018-01-13 11:33:08--  http://www.cpc.ncep.noaa.gov/products/precip/CWlink/daily_ao_index/monthly.ao.index.b50.current.ascii\n",
      "Resolving www.cpc.ncep.noaa.gov (www.cpc.ncep.noaa.gov)... 140.90.101.63\n",
      "Connecting to www.cpc.ncep.noaa.gov (www.cpc.ncep.noaa.gov)|140.90.101.63|:80... connected.\n",
      "HTTP request sent, awaiting response... 200 OK\n",
      "Length: 20400 (20K) [text/plain]\n",
      "Saving to: ‘monthly.ao.index.b50.current.ascii’\n",
      "\n",
      "monthly.ao.index.b5 100%[===================>]  19.92K  --.-KB/s    in 0.02s   \n",
      "\n",
      "2018-01-13 11:33:10 (1.19 MB/s) - ‘monthly.ao.index.b50.current.ascii’ saved [20400/20400]\n",
      "\n"
     ]
    }
   ],
   "source": [
    "#!curl http://www.cpc.ncep.noaa.gov/products/precip/CWlink/daily_ao_index/monthly.ao.index.b50.current.ascii >> 'monthly.ao.index.b50.current.ascii'\n",
    "!wget http://www.cpc.ncep.noaa.gov/products/precip/CWlink/daily_ao_index/monthly.ao.index.b50.current.ascii\n"
   ]
  },
  {
   "cell_type": "code",
   "execution_count": 8,
   "metadata": {
    "collapsed": true
   },
   "outputs": [],
   "source": [
    "ao = np.loadtxt('monthly.ao.index.b50.current.ascii')"
   ]
  },
  {
   "cell_type": "code",
   "execution_count": 10,
   "metadata": {},
   "outputs": [
    {
     "data": {
      "text/plain": [
       "array([[  1.95000000e+03,   1.00000000e+00,  -6.03100000e-02],\n",
       "       [  1.95000000e+03,   2.00000000e+00,   6.26810000e-01]])"
      ]
     },
     "execution_count": 10,
     "metadata": {},
     "output_type": "execute_result"
    }
   ],
   "source": [
    "\n",
    "\n",
    "ao[0:2]\n"
   ]
  },
  {
   "cell_type": "code",
   "execution_count": 12,
   "metadata": {},
   "outputs": [
    {
     "data": {
      "text/plain": [
       "(816, 3)"
      ]
     },
     "execution_count": 12,
     "metadata": {},
     "output_type": "execute_result"
    }
   ],
   "source": [
    "ao.shape\n"
   ]
  },
  {
   "cell_type": "code",
   "execution_count": 14,
   "metadata": {
    "collapsed": true
   },
   "outputs": [],
   "source": [
    "\n",
    "\n",
    "dates = pd.date_range('1950-01', periods=ao.shape[0], freq='M')\n",
    "\n"
   ]
  },
  {
   "cell_type": "code",
   "execution_count": 16,
   "metadata": {},
   "outputs": [
    {
     "data": {
      "text/plain": [
       "DatetimeIndex(['1950-01-31', '1950-02-28', '1950-03-31', '1950-04-30',\n",
       "               '1950-05-31', '1950-06-30', '1950-07-31', '1950-08-31',\n",
       "               '1950-09-30', '1950-10-31',\n",
       "               ...\n",
       "               '2017-03-31', '2017-04-30', '2017-05-31', '2017-06-30',\n",
       "               '2017-07-31', '2017-08-31', '2017-09-30', '2017-10-31',\n",
       "               '2017-11-30', '2017-12-31'],\n",
       "              dtype='datetime64[ns]', length=816, freq='M')"
      ]
     },
     "execution_count": 16,
     "metadata": {},
     "output_type": "execute_result"
    }
   ],
   "source": [
    "dates\n"
   ]
  },
  {
   "cell_type": "code",
   "execution_count": 18,
   "metadata": {
    "collapsed": true
   },
   "outputs": [],
   "source": [
    "AO = Series(ao[:,2], index = dates)"
   ]
  },
  {
   "cell_type": "code",
   "execution_count": 20,
   "metadata": {},
   "outputs": [
    {
     "data": {
      "text/plain": [
       "1950-01-31   -0.060310\n",
       "1950-02-28    0.626810\n",
       "1950-03-31   -0.008127\n",
       "1950-04-30    0.555100\n",
       "1950-05-31    0.071577\n",
       "1950-06-30    0.538570\n",
       "1950-07-31   -0.802480\n",
       "                ...   \n",
       "2017-06-30    0.401660\n",
       "2017-07-31    0.634230\n",
       "2017-08-31    0.150040\n",
       "2017-09-30   -0.492450\n",
       "2017-10-31    0.690340\n",
       "2017-11-30   -0.077573\n",
       "2017-12-31   -0.058978\n",
       "Freq: M, Length: 816, dtype: float64"
      ]
     },
     "execution_count": 20,
     "metadata": {},
     "output_type": "execute_result"
    }
   ],
   "source": [
    "AO\n"
   ]
  },
  {
   "cell_type": "code",
   "execution_count": 23,
   "metadata": {},
   "outputs": [
    {
     "data": {
      "text/plain": [
       "<pandas.plotting._core.SeriesPlotMethods object at 0x7f68ede63978>"
      ]
     },
     "execution_count": 23,
     "metadata": {},
     "output_type": "execute_result"
    }
   ],
   "source": [
    "AO.plot\n"
   ]
  },
  {
   "cell_type": "code",
   "execution_count": null,
   "metadata": {
    "collapsed": true
   },
   "outputs": [],
   "source": []
  }
 ],
 "metadata": {
  "kernelspec": {
   "display_name": "Python 3",
   "language": "python",
   "name": "python3"
  },
  "language_info": {
   "codemirror_mode": {
    "name": "ipython",
    "version": 3
   },
   "file_extension": ".py",
   "mimetype": "text/x-python",
   "name": "python",
   "nbconvert_exporter": "python",
   "pygments_lexer": "ipython3",
   "version": "3.6.3"
  }
 },
 "nbformat": 4,
 "nbformat_minor": 2
}
